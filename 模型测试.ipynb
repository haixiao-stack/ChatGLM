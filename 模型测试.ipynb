{
 "cells": [
  {
   "cell_type": "code",
   "execution_count": 4,
   "id": "02439e83-9977-4942-a1e6-6cbf7df80783",
   "metadata": {
    "collapsed": true,
    "jupyter": {
     "outputs_hidden": true
    },
    "tags": []
   },
   "outputs": [
    {
     "data": {
      "application/vnd.jupyter.widget-view+json": {
       "model_id": "fc7a000aee34483193ad7eb9b12489aa",
       "version_major": 2,
       "version_minor": 0
      },
      "text/plain": [
       "Loading checkpoint shards:   0%|          | 0/7 [00:00<?, ?it/s]"
      ]
     },
     "metadata": {},
     "output_type": "display_data"
    },
    {
     "name": "stderr",
     "output_type": "stream",
     "text": [
      "/root/miniconda3/lib/python3.8/site-packages/torch/_utils.py:776: UserWarning: TypedStorage is deprecated. It will be removed in the future and UntypedStorage will be the only storage class. This should only matter to you if you are using storages directly.  To access UntypedStorage directly, use tensor.untyped_storage() instead of tensor.storage()\n",
      "  return self.fget.__get__(instance, owner)()\n"
     ]
    },
    {
     "name": "stdout",
     "output_type": "stream",
     "text": [
      "江西有什么好玩的 江西是一个风景秀丽、文化底蕴深厚的省份,有很多值得一游的景点和活动。以下是一些推荐:\n",
      "\n",
      "1. 三清山:位于江西省上饶市玉山县境内,是世界自然遗产地,以奇特的花岗岩地貌和壮观的云海景观闻名。\n",
      "\n",
      "2. 庐山:位于江西省九江市境内,是著名的避暑胜地,以自然风光、人文景观和休闲度假而闻名。\n",
      "\n",
      "3. 黄山:位于江西省上饶市徽州区境内,是中国著名的风景名胜区,以奇松、怪石、云海和温泉而闻名。\n",
      "\n",
      "4. 武功山:位于江西省萍乡市境内,是中国著名的佛教名山和自然风景区,以巍峨的山峰、奇特的景观和传统的佛教文化而闻名。\n",
      "\n",
      "5. 婺源县:位于江西省上饶市婺源县境内,是一个历史悠久、文化底蕴深厚的村庄,以美丽的自然风光和独特的民俗文化而闻名。\n",
      "\n",
      "6. 景德镇:位于江西省上饶市景德镇市境内,是中国著名的瓷器产地和旅游城市,以传统的手工陶瓷制作和独特的陶瓷文化而闻名。\n",
      "\n",
      "7. 庐山瀑布:位于江西省九江市境内,是一个世界自然遗产景点,以壮观的瀑布景观和自然风光而闻名。\n",
      "\n",
      "8. 婺源古城:位于江西省上饶市婺源县境内,是一个历史悠久、保存完好的古城,以独特的建筑风格和美丽的自然风光而闻名。\n",
      "\n",
      "这些都是江西比较著名的景点,当然还有很多其他值得一游的地方,可以根据自己的兴趣和时间进行选择。\n"
     ]
    }
   ],
   "source": [
    "import os\n",
    "from transformers import AutoTokenizer, AutoModel\n",
    "model_dir=\"./model\"\n",
    "model_name=\"chatglm\"\n",
    "model_path=os.path.join(model_dir,model_name)\n",
    "tokenizer = AutoTokenizer.from_pretrained(model_path, trust_remote_code=True)\n",
    "model = AutoModel.from_pretrained(model_path, trust_remote_code=True).half().cuda()\n",
    "model = model.eval()\n",
    "sentences=[\"江西有什么好玩的\"]#\"你是谁\",\"如何变成百万富翁\",\"用python写一个快速排序\"\n",
    "for sentence in sentences:\n",
    "    response, history = model.chat(tokenizer, sentence, history=[])\n",
    "    print(sentence,response)"
   ]
  },
  {
   "cell_type": "code",
   "execution_count": 2,
   "id": "6fda1e66-80fa-482d-afe2-ac17ccd642c7",
   "metadata": {
    "tags": []
   },
   "outputs": [
    {
     "name": "stdout",
     "output_type": "stream",
     "text": [
      "<bound method Kernel.raw_input of <ipykernel.ipkernel.IPythonKernel object at 0x7f057889d9a0>>\n",
      "周饼伦是一个长得像周杰伦的鸡蛋灌饼商贩,但是并不一定真的是周杰伦本人。\n"
     ]
    }
   ],
   "source": [
    "prompt = \"周饼伦是一个长得像周杰伦的鸡蛋灌饼商贩，他人非常友善\"\n",
    "question = \"周饼伦是谁?\"\n",
    "input_sentence = prompt+\" 请根据上述事实回答问题: \"+question\n",
    "print(input)\n",
    "response, history = model.chat(tokenizer, input_sentence, history=[])\n",
    "print(response)"
   ]
  },
  {
   "cell_type": "code",
   "execution_count": null,
   "id": "f1b0163b-af41-4984-a113-b164f09f8cf5",
   "metadata": {},
   "outputs": [],
   "source": []
  }
 ],
 "metadata": {
  "kernelspec": {
   "display_name": "Python 3 (ipykernel)",
   "language": "python",
   "name": "python3"
  },
  "language_info": {
   "codemirror_mode": {
    "name": "ipython",
    "version": 3
   },
   "file_extension": ".py",
   "mimetype": "text/x-python",
   "name": "python",
   "nbconvert_exporter": "python",
   "pygments_lexer": "ipython3",
   "version": "3.8.10"
  }
 },
 "nbformat": 4,
 "nbformat_minor": 5
}
