{
 "cells": [
  {
   "cell_type": "code",
   "execution_count": 6,
   "id": "e57549a6-c624-4e9a-b391-b7cbee834a76",
   "metadata": {
    "tags": []
   },
   "outputs": [],
   "source": [
    "import os\n",
    "import sentencepiece as spm"
   ]
  },
  {
   "cell_type": "code",
   "execution_count": 7,
   "id": "b4e905b1-dd0b-430c-b164-1cdd783e0050",
   "metadata": {
    "tags": []
   },
   "outputs": [],
   "source": [
    "data_dir = \"/root/autodl-tmp/data/wenlv/\"\n",
    "data_name = \"lvyou.csv\"\n",
    "data_path = os.path.join(data_dir,data_name)\n",
    "def get_words(model_name,sentence):\n",
    "    sp = spm.SentencePieceProcessor()\n",
    "    sp.load(model_name)\n",
    "    pieces = sp.encode_as_pieces(sentence)\n",
    "    print(pieces)\n",
    "spm.SentencePieceTrainer.train(input=data_path,model_prefix=\"bpe\",vocab_size=4500 ,model_type=\"bpe\")\n",
    "# spm.SentencePieceTrainer.train(input=\"lvyou.csv\",model_prefix=\"uni\",vocab_size=4500 ,model_type=\"unigram\")\n",
    "# sentence=\"天气真热，我今天去武功山旅游\"\n",
    "# get_words(\"bpe.model\",sentence)\n",
    "# get_words(\"uni.model\",sentence)"
   ]
  },
  {
   "cell_type": "code",
   "execution_count": 8,
   "id": "fee57714-f40e-49e5-a8a8-7d87c7e9d68e",
   "metadata": {
    "tags": []
   },
   "outputs": [
    {
     "name": "stdout",
     "output_type": "stream",
     "text": [
      "['▁', '天气', '真', '热', ',', '我', '今', '天', '去武功山', '旅游']\n"
     ]
    }
   ],
   "source": [
    "sentence=\"天气真热，我今天去武功山旅游\"\n",
    "get_words(\"bpe.model\",sentence)"
   ]
  },
  {
   "cell_type": "code",
   "execution_count": null,
   "id": "003f73fc-e6e2-4285-9273-ab613dc56c3b",
   "metadata": {},
   "outputs": [],
   "source": []
  }
 ],
 "metadata": {
  "kernelspec": {
   "display_name": "Python 3 (ipykernel)",
   "language": "python",
   "name": "python3"
  },
  "language_info": {
   "codemirror_mode": {
    "name": "ipython",
    "version": 3
   },
   "file_extension": ".py",
   "mimetype": "text/x-python",
   "name": "python",
   "nbconvert_exporter": "python",
   "pygments_lexer": "ipython3",
   "version": "3.8.10"
  }
 },
 "nbformat": 4,
 "nbformat_minor": 5
}
